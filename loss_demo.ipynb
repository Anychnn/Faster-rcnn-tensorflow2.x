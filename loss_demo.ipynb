{
 "cells": [
  {
   "cell_type": "code",
   "execution_count": 1,
   "metadata": {
    "ExecuteTime": {
     "end_time": "2020-06-27T02:38:16.197190Z",
     "start_time": "2020-06-27T02:38:13.085776Z"
    }
   },
   "outputs": [],
   "source": [
    "from utils.config import Config\n",
    "from model.fasterrcnn import FasterRCNNTrainer, FasterRCNN\n",
    "import tensorflow as tf\n",
    "from utils.data import Dataset\n",
    "\n",
    "physical_devices = tf.config.experimental.list_physical_devices('GPU')\n",
    "assert len(physical_devices) > 0, \"Not enough GPU hardware devices available\"\n",
    "tf.config.experimental.set_memory_growth(physical_devices[0], True)"
   ]
  },
  {
   "cell_type": "code",
   "execution_count": 2,
   "metadata": {
    "ExecuteTime": {
     "end_time": "2020-06-27T02:38:27.309494Z",
     "start_time": "2020-06-27T02:38:27.285354Z"
    }
   },
   "outputs": [
    {
     "name": "stdout",
     "output_type": "stream",
     "text": [
      "======user config========\n",
      "{'max_size': 1000,\n",
      " 'min_size': 600,\n",
      " 'roi_sigma': 1.0,\n",
      " 'rpn_sigma': 3.0,\n",
      " 'voc_data_dir': 'D:/DataClinic/simple-faster-rcnn-pytorch/VOCdevkit/VOC2007/'}\n",
      "==========end============\n"
     ]
    }
   ],
   "source": [
    "config = Config()\n",
    "config._parse({})\n",
    "dataset = Dataset(config)\n",
    "frcnn = FasterRCNN(21, (7, 7))"
   ]
  },
  {
   "cell_type": "code",
   "execution_count": null,
   "metadata": {},
   "outputs": [],
   "source": [
    "model = FasterRCNNTrainer(frcnn)\n",
    "optimizer = tf.keras.optimizers.Adam(learning_rate=3e-4)\n",
    "# 相当于build一下模型\n",
    "img, bboxes, labels, scale = dataset[1]\n",
    "x = tf.convert_to_tensor(img, dtype=tf.float32)\n",
    "x = tf.expand_dims(x, axis=0)\n",
    "_, _, _, _ = model(x, bboxes, labels, scale)\n",
    "# 然后就能载入权重了\n",
    "model.load_weights('frcnn_sigmoid.h5')"
   ]
  }
 ],
 "metadata": {
  "kernelspec": {
   "display_name": "Python 3",
   "language": "python",
   "name": "python3"
  },
  "language_info": {
   "codemirror_mode": {
    "name": "ipython",
    "version": 3
   },
   "file_extension": ".py",
   "mimetype": "text/x-python",
   "name": "python",
   "nbconvert_exporter": "python",
   "pygments_lexer": "ipython3",
   "version": "3.7.3"
  },
  "toc": {
   "base_numbering": 1,
   "nav_menu": {},
   "number_sections": true,
   "sideBar": true,
   "skip_h1_title": false,
   "title_cell": "Table of Contents",
   "title_sidebar": "Contents",
   "toc_cell": false,
   "toc_position": {},
   "toc_section_display": true,
   "toc_window_display": false
  },
  "varInspector": {
   "cols": {
    "lenName": 16,
    "lenType": 16,
    "lenVar": 40
   },
   "kernels_config": {
    "python": {
     "delete_cmd_postfix": "",
     "delete_cmd_prefix": "del ",
     "library": "var_list.py",
     "varRefreshCmd": "print(var_dic_list())"
    },
    "r": {
     "delete_cmd_postfix": ") ",
     "delete_cmd_prefix": "rm(",
     "library": "var_list.r",
     "varRefreshCmd": "cat(var_dic_list()) "
    }
   },
   "types_to_exclude": [
    "module",
    "function",
    "builtin_function_or_method",
    "instance",
    "_Feature"
   ],
   "window_display": false
  }
 },
 "nbformat": 4,
 "nbformat_minor": 2
}
