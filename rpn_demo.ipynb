{
 "cells": [
  {
   "cell_type": "code",
   "execution_count": 1,
   "metadata": {
    "ExecuteTime": {
     "end_time": "2020-07-05T10:00:03.089530Z",
     "start_time": "2020-07-05T10:00:00.113648Z"
    }
   },
   "outputs": [],
   "source": [
    "from utils.config import Config\n",
    "from model.fasterrcnn import FasterRCNNTrainer, FasterRCNN\n",
    "import tensorflow as tf\n",
    "from utils.data import Dataset"
   ]
  },
  {
   "cell_type": "code",
   "execution_count": 2,
   "metadata": {
    "ExecuteTime": {
     "end_time": "2020-07-05T10:00:03.631403Z",
     "start_time": "2020-07-05T10:00:03.530125Z"
    }
   },
   "outputs": [],
   "source": [
    "physical_devices = tf.config.experimental.list_physical_devices('GPU')\n",
    "assert len(physical_devices) > 0, \"Not enough GPU hardware devices available\"\n",
    "tf.config.experimental.set_memory_growth(physical_devices[0], True)"
   ]
  },
  {
   "cell_type": "code",
   "execution_count": 3,
   "metadata": {
    "ExecuteTime": {
     "end_time": "2020-07-05T10:00:04.051235Z",
     "start_time": "2020-07-05T10:00:04.032757Z"
    }
   },
   "outputs": [],
   "source": [
    "%matplotlib notebook"
   ]
  },
  {
   "cell_type": "code",
   "execution_count": 4,
   "metadata": {
    "ExecuteTime": {
     "end_time": "2020-07-05T10:00:04.599490Z",
     "start_time": "2020-07-05T10:00:04.594504Z"
    }
   },
   "outputs": [
    {
     "name": "stdout",
     "output_type": "stream",
     "text": [
      "======user config========\n",
      "{'max_size': 1000,\n",
      " 'min_size': 600,\n",
      " 'voc_data_dir': 'D:/DataClinic/simple-faster-rcnn-pytorch/VOCdevkit/VOC2007/'}\n",
      "==========end============\n"
     ]
    }
   ],
   "source": [
    "config = Config()\n",
    "config._parse({})"
   ]
  },
  {
   "cell_type": "code",
   "execution_count": 5,
   "metadata": {
    "ExecuteTime": {
     "end_time": "2020-07-05T10:00:06.312774Z",
     "start_time": "2020-07-05T10:00:06.306798Z"
    }
   },
   "outputs": [],
   "source": [
    "dataset = Dataset(config)"
   ]
  },
  {
   "cell_type": "code",
   "execution_count": 7,
   "metadata": {
    "ExecuteTime": {
     "end_time": "2020-07-05T10:00:13.325424Z",
     "start_time": "2020-07-05T10:00:13.302449Z"
    }
   },
   "outputs": [],
   "source": [
    "frcnn = FasterRCNN(21, (7,7))\n",
    "model = FasterRCNNTrainer(frcnn)\n",
    "optimizer = tf.keras.optimizers.SGD(learning_rate=3e-4)"
   ]
  },
  {
   "cell_type": "code",
   "execution_count": 8,
   "metadata": {
    "ExecuteTime": {
     "end_time": "2020-07-05T10:00:17.025555Z",
     "start_time": "2020-07-05T10:00:16.416783Z"
    }
   },
   "outputs": [],
   "source": [
    "img, bboxes, labels, scale = dataset[1]"
   ]
  },
  {
   "cell_type": "code",
   "execution_count": 9,
   "metadata": {
    "ExecuteTime": {
     "end_time": "2020-07-05T10:01:33.594694Z",
     "start_time": "2020-07-05T10:01:30.738511Z"
    }
   },
   "outputs": [],
   "source": [
    "img_size = img.shape[1:3]\n",
    "feature_map = model.faster_rcnn.extractor(img)\n",
    "rpn_locs, rpn_scores, rois, anchor = model.faster_rcnn.rpn(feature_map, img_size, scale)"
   ]
  },
  {
   "cell_type": "code",
   "execution_count": 10,
   "metadata": {
    "ExecuteTime": {
     "end_time": "2020-07-05T10:01:38.129519Z",
     "start_time": "2020-07-05T10:01:38.112551Z"
    }
   },
   "outputs": [
    {
     "name": "stdout",
     "output_type": "stream",
     "text": [
      "(1, 38, 57, 512) max= 0.029995251 min= 0.0\n"
     ]
    }
   ],
   "source": [
    "print(feature_map.shape, 'max=', tf.reduce_max(feature_map).numpy(), 'min=', tf.reduce_min(feature_map).numpy())"
   ]
  },
  {
   "cell_type": "code",
   "execution_count": 11,
   "metadata": {
    "ExecuteTime": {
     "end_time": "2020-07-05T10:01:42.964372Z",
     "start_time": "2020-07-05T10:01:42.955425Z"
    }
   },
   "outputs": [
    {
     "name": "stdout",
     "output_type": "stream",
     "text": [
      "(1, 19494, 4) max= 0.013715236 min= 0.0\n",
      "(1, 19494, 2) max= 0.017642885 min= -0.010967214\n"
     ]
    }
   ],
   "source": [
    "print(rpn_locs.shape, 'max=', tf.reduce_max(rpn_locs).numpy(), 'min=', tf.reduce_min(feature_map).numpy())\n",
    "print(rpn_scores.shape,'max=', tf.reduce_max(rpn_scores).numpy(), 'min=', tf.reduce_min(rpn_scores).numpy())"
   ]
  },
  {
   "cell_type": "code",
   "execution_count": 12,
   "metadata": {
    "ExecuteTime": {
     "end_time": "2020-06-25T05:06:09.600899Z",
     "start_time": "2020-06-25T05:06:09.573838Z"
    }
   },
   "outputs": [
    {
     "name": "stdout",
     "output_type": "stream",
     "text": [
      "(2000, 4) max= 800.0 min= 0.0\n",
      "(2000,) max= 0 min= 0\n",
      "(17100, 4) max= 1154.0387 min= -354.03867\n"
     ]
    }
   ],
   "source": [
    "print(rois.shape,'max=', tf.reduce_max(rois).numpy(), 'min=', tf.reduce_min(rois).numpy())\n",
    "print(roi_indices.shape,'max=', tf.reduce_max(roi_indices).numpy(), 'min=', tf.reduce_min(roi_indices).numpy())\n",
    "print(anchor.shape,'max=', tf.reduce_max(anchor).numpy(), 'min=', tf.reduce_min(anchor).numpy())"
   ]
  },
  {
   "cell_type": "code",
   "execution_count": 16,
   "metadata": {
    "ExecuteTime": {
     "end_time": "2020-06-25T06:06:14.415027Z",
     "start_time": "2020-06-25T06:06:14.406392Z"
    }
   },
   "outputs": [],
   "source": [
    "from utils.anchor import AnchorTargetCreator"
   ]
  },
  {
   "cell_type": "code",
   "execution_count": 17,
   "metadata": {
    "ExecuteTime": {
     "end_time": "2020-06-25T06:06:51.093111Z",
     "start_time": "2020-06-25T06:06:51.089119Z"
    }
   },
   "outputs": [],
   "source": [
    "anchor_target_creator = AnchorTargetCreator(n_sample=256, pos_iou_thresh=0.7, neg_iou_thresh=0.3, pos_ratio=0.5)"
   ]
  },
  {
   "cell_type": "code",
   "execution_count": 19,
   "metadata": {
    "ExecuteTime": {
     "end_time": "2020-06-25T08:00:43.407925Z",
     "start_time": "2020-06-25T08:00:43.402211Z"
    }
   },
   "outputs": [],
   "source": [
    "img_size = img.shape[:2]"
   ]
  },
  {
   "cell_type": "code",
   "execution_count": 21,
   "metadata": {
    "ExecuteTime": {
     "end_time": "2020-06-25T08:00:53.444852Z",
     "start_time": "2020-06-25T08:00:53.415676Z"
    }
   },
   "outputs": [],
   "source": [
    "gt_rpn_loc, gt_rpn_label = anchor_target_creator(bboxes, anchor, img_size)"
   ]
  },
  {
   "cell_type": "code",
   "execution_count": 22,
   "metadata": {
    "ExecuteTime": {
     "end_time": "2020-06-25T08:01:20.336985Z",
     "start_time": "2020-06-25T08:01:20.312494Z"
    }
   },
   "outputs": [
    {
     "name": "stdout",
     "output_type": "stream",
     "text": [
      "(17100, 4) max= 4.110058 min= -3.9244435\n",
      "(17100,) max= 1 min= -1\n"
     ]
    }
   ],
   "source": [
    "print(gt_rpn_loc.shape, 'max=', tf.reduce_max(gt_rpn_loc).numpy(), 'min=', tf.reduce_min(gt_rpn_loc).numpy())\n",
    "print(gt_rpn_label.shape,'max=', tf.reduce_max(gt_rpn_label).numpy(), 'min=', tf.reduce_min(gt_rpn_label).numpy())"
   ]
  },
  {
   "cell_type": "code",
   "execution_count": 27,
   "metadata": {
    "ExecuteTime": {
     "end_time": "2020-06-25T12:30:18.283974Z",
     "start_time": "2020-06-25T12:30:18.279985Z"
    }
   },
   "outputs": [],
   "source": [
    "from utils.anchor import ProposalTargetCreator"
   ]
  },
  {
   "cell_type": "code",
   "execution_count": 29,
   "metadata": {
    "ExecuteTime": {
     "end_time": "2020-06-25T12:30:59.079543Z",
     "start_time": "2020-06-25T12:30:59.060537Z"
    }
   },
   "outputs": [],
   "source": [
    "proposal_target_creator = ProposalTargetCreator(n_sample=128, pos_ratio=0.25, pos_iou_thresh=0.5, \n",
    "                                                neg_iou_thresh_hi=0.5, neg_iou_thresh_lo=0.0)"
   ]
  },
  {
   "cell_type": "code",
   "execution_count": 30,
   "metadata": {
    "ExecuteTime": {
     "end_time": "2020-06-25T12:31:27.047656Z",
     "start_time": "2020-06-25T12:31:27.041683Z"
    }
   },
   "outputs": [],
   "source": [
    "sample_roi, gt_roi_loc, gt_roi_label, keep_index = proposal_target_creator(rois, bboxes, labels)"
   ]
  },
  {
   "cell_type": "code",
   "execution_count": 31,
   "metadata": {
    "ExecuteTime": {
     "end_time": "2020-06-25T12:35:41.042718Z",
     "start_time": "2020-06-25T12:35:41.005589Z"
    }
   },
   "outputs": [
    {
     "name": "stdout",
     "output_type": "stream",
     "text": [
      "(128, 4) max= 800.0 min= 0.0\n",
      "(128, 4) max= 6.2737284 min= -4.2205048\n",
      "(128,) max= 15 min= 0\n",
      "(128,) max= 2001 min= 0\n"
     ]
    }
   ],
   "source": [
    "print(sample_roi.shape, 'max=', tf.reduce_max(sample_roi).numpy(), 'min=', tf.reduce_min(sample_roi).numpy())\n",
    "print(gt_roi_loc.shape,'max=', tf.reduce_max(gt_roi_loc).numpy(), 'min=', tf.reduce_min(gt_roi_loc).numpy())\n",
    "print(gt_roi_label.shape, 'max=', tf.reduce_max(gt_roi_label).numpy(), 'min=', tf.reduce_min(gt_roi_label).numpy())\n",
    "print(keep_index.shape,'max=', tf.reduce_max(keep_index).numpy(), 'min=', tf.reduce_min(keep_index).numpy())"
   ]
  },
  {
   "cell_type": "code",
   "execution_count": 33,
   "metadata": {
    "ExecuteTime": {
     "end_time": "2020-06-25T12:38:56.661604Z",
     "start_time": "2020-06-25T12:38:56.656349Z"
    },
    "scrolled": true
   },
   "outputs": [
    {
     "data": {
      "text/plain": [
       "array([1144, 1386,    2, 1275, 1292, 1168, 1825,  691, 1889, 2000],\n",
       "      dtype=int64)"
      ]
     },
     "execution_count": 33,
     "metadata": {},
     "output_type": "execute_result"
    }
   ],
   "source": [
    "keep_index[:10]"
   ]
  },
  {
   "cell_type": "code",
   "execution_count": 36,
   "metadata": {
    "ExecuteTime": {
     "end_time": "2020-06-25T12:51:41.209439Z",
     "start_time": "2020-06-25T12:51:41.205411Z"
    }
   },
   "outputs": [],
   "source": [
    "from model.roi import RoIHead"
   ]
  },
  {
   "cell_type": "code",
   "execution_count": 60,
   "metadata": {
    "ExecuteTime": {
     "end_time": "2020-06-25T13:35:27.427372Z",
     "start_time": "2020-06-25T13:35:27.419353Z"
    }
   },
   "outputs": [],
   "source": [
    "roi_head = RoIHead(n_class=21, pool_size=(7, 7))"
   ]
  },
  {
   "cell_type": "code",
   "execution_count": 61,
   "metadata": {
    "ExecuteTime": {
     "end_time": "2020-06-25T13:35:28.023309Z",
     "start_time": "2020-06-25T13:35:28.003601Z"
    }
   },
   "outputs": [],
   "source": [
    "roi_cls_loc, roi_score = roi_head(feature_map, sample_roi, img_size)"
   ]
  },
  {
   "cell_type": "code",
   "execution_count": 62,
   "metadata": {
    "ExecuteTime": {
     "end_time": "2020-06-25T13:35:32.358423Z",
     "start_time": "2020-06-25T13:35:32.350388Z"
    }
   },
   "outputs": [
    {
     "name": "stdout",
     "output_type": "stream",
     "text": [
      "(128, 84) max= 0.050996922 min= -0.04852302\n",
      "(128, 21) max= 0.5078401 min= 0.49183586\n"
     ]
    }
   ],
   "source": [
    "print(roi_cls_loc.shape, 'max=', tf.reduce_max(roi_cls_loc).numpy(), 'min=', tf.reduce_min(roi_cls_loc).numpy())\n",
    "print(roi_score.shape,'max=', tf.reduce_max(roi_score).numpy(), 'min=', tf.reduce_min(roi_score).numpy())"
   ]
  },
  {
   "cell_type": "code",
   "execution_count": null,
   "metadata": {},
   "outputs": [],
   "source": []
  }
 ],
 "metadata": {
  "kernelspec": {
   "display_name": "Python 3",
   "language": "python",
   "name": "python3"
  },
  "language_info": {
   "codemirror_mode": {
    "name": "ipython",
    "version": 3
   },
   "file_extension": ".py",
   "mimetype": "text/x-python",
   "name": "python",
   "nbconvert_exporter": "python",
   "pygments_lexer": "ipython3",
   "version": "3.7.3"
  },
  "toc": {
   "base_numbering": 1,
   "nav_menu": {},
   "number_sections": true,
   "sideBar": true,
   "skip_h1_title": false,
   "title_cell": "Table of Contents",
   "title_sidebar": "Contents",
   "toc_cell": false,
   "toc_position": {},
   "toc_section_display": true,
   "toc_window_display": false
  },
  "varInspector": {
   "cols": {
    "lenName": 16,
    "lenType": 16,
    "lenVar": 40
   },
   "kernels_config": {
    "python": {
     "delete_cmd_postfix": "",
     "delete_cmd_prefix": "del ",
     "library": "var_list.py",
     "varRefreshCmd": "print(var_dic_list())"
    },
    "r": {
     "delete_cmd_postfix": ") ",
     "delete_cmd_prefix": "rm(",
     "library": "var_list.r",
     "varRefreshCmd": "cat(var_dic_list()) "
    }
   },
   "types_to_exclude": [
    "module",
    "function",
    "builtin_function_or_method",
    "instance",
    "_Feature"
   ],
   "window_display": false
  }
 },
 "nbformat": 4,
 "nbformat_minor": 2
}
